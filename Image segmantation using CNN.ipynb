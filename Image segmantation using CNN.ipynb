{
  "cells": [
    {
      "cell_type": "markdown",
      "metadata": {
        "id": "9CiYh1Kov8sx"
      },
      "source": [
        "# Import necessary Libraries"
      ]
    },
    {
      "cell_type": "code",
      "execution_count": null,
      "metadata": {
        "id": "s2ISHBZzs-OI"
      },
      "outputs": [],
      "source": [
        "import tensorflow as tf\n",
        "from tensorflow.keras.models import Model\n",
        "from tensorflow.keras.layers import Conv2D, MaxPooling2D, UpSampling2D, Input\n",
        "import numpy as np\n",
        "import matplotlib.pyplot as plt\n",
        "from tensorflow.keras.datasets import mnist"
      ]
    },
    {
      "cell_type": "markdown",
      "metadata": {
        "id": "_FAKv44gwH_n"
      },
      "source": [
        "# Loading the Dataset"
      ]
    },
    {
      "cell_type": "code",
      "execution_count": null,
      "metadata": {
        "id": "xgwlsgJlBIj5"
      },
      "outputs": [],
      "source": [
        "(x_train, y_train), (x_test, y_test) = mnist.load_data()\n"
      ]
    },
    {
      "cell_type": "markdown",
      "metadata": {
        "id": "YejKCE9iwLhs"
      },
      "source": [
        "# Normalize\n",
        "\n",
        "\n"
      ]
    },
    {
      "cell_type": "code",
      "execution_count": null,
      "metadata": {
        "id": "xRyuW0H1BLOm"
      },
      "outputs": [],
      "source": [
        "x_train = x_train.astype(\"float32\") / 255.0\n",
        "x_test = x_test.astype(\"float32\") / 255.0"
      ]
    },
    {
      "cell_type": "code",
      "execution_count": null,
      "metadata": {
        "id": "mbrzRTR-BRmZ"
      },
      "outputs": [],
      "source": [
        "x_train = np.expand_dims(x_train, axis=-1)\n",
        "x_test = np.expand_dims(x_test, axis=-1)"
      ]
    },
    {
      "cell_type": "code",
      "execution_count": null,
      "metadata": {
        "id": "P_NmUQa5BV_X"
      },
      "outputs": [],
      "source": [
        "y_train = (x_train > 0.5).astype(\"float32\")\n",
        "y_test = (x_test > 0.5).astype(\"float32\")"
      ]
    },
    {
      "cell_type": "markdown",
      "metadata": {
        "id": "_XLtt5GkwVfO"
      },
      "source": [
        "# Model Architecture"
      ]
    },
    {
      "cell_type": "code",
      "execution_count": null,
      "metadata": {
        "id": "Sc8SP2wDBcF3"
      },
      "outputs": [],
      "source": [
        "def build_segmentation_model():\n",
        "    inputs = Input(shape=(28, 28, 1))\n",
        "\n",
        "    # Encoder (Downsampling)\n",
        "    x = Conv2D(32, (3, 3), activation=\"relu\", padding=\"same\")(inputs)\n",
        "    x = MaxPooling2D((2, 2))(x)\n",
        "    x = Conv2D(64, (3, 3), activation=\"relu\", padding=\"same\")(x)\n",
        "    x = MaxPooling2D((2, 2))(x)\n",
        "\n",
        "    # Decoder (Upsampling)\n",
        "    x = Conv2D(64, (3, 3), activation=\"relu\", padding=\"same\")(x)\n",
        "    x = UpSampling2D((2, 2))(x)\n",
        "    x = Conv2D(32, (3, 3), activation=\"relu\", padding=\"same\")(x)\n",
        "    x = UpSampling2D((2, 2))(x)\n",
        "\n",
        "    # Output Layer (Segmentation Mask)\n",
        "    outputs = Conv2D(1, (1, 1), activation=\"sigmoid\", padding=\"same\")(x)\n",
        "\n",
        "    model = Model(inputs, outputs)\n",
        "    model.compile(optimizer=\"adam\", loss=\"binary_crossentropy\", metrics=[\"accuracy\"])\n",
        "    return model\n"
      ]
    },
    {
      "cell_type": "markdown",
      "metadata": {
        "id": "ELG8Ihh2war_"
      },
      "source": [
        "# Model building and training\n",
        "\n"
      ]
    },
    {
      "cell_type": "code",
      "execution_count": null,
      "metadata": {
        "colab": {
          "background_save": true
        },
        "id": "xjjg_JoQBfZz"
      },
      "outputs": [],
      "source": [
        "model = build_segmentation_model()\n",
        "model.fit(x_train, y_train, epochs=5, batch_size=64, validation_data=(x_test, y_test))"
      ]
    },
    {
      "cell_type": "markdown",
      "metadata": {
        "id": "3tAAWSVdwd8p"
      },
      "source": [
        "# Making Prediction"
      ]
    },
    {
      "cell_type": "code",
      "execution_count": null,
      "metadata": {
        "id": "GXdHGkBUBikJ",
        "collapsed": true
      },
      "outputs": [],
      "source": [
        "def predict_and_display(index):\n",
        "    sample = x_test[index:index+1]\n",
        "    prediction = model.predict(sample)[0]\n",
        "\n",
        "    fig, axes = plt.subplots(1, 3, figsize=(12, 4))\n",
        "    axes[0].imshow(sample.squeeze(), cmap=\"gray\")\n",
        "    axes[0].set_title(\"Original Image\")\n",
        "    axes[1].imshow(y_test[index].squeeze(), cmap=\"gray\")\n",
        "    axes[1].set_title(\"True Mask\")\n",
        "    axes[2].imshow(prediction.squeeze(), cmap=\"gray\")\n",
        "    axes[2].set_title(\"Predicted Mask\")\n",
        "    plt.show()\n",
        "\n",
        "# Show results on a random test sample\n",
        "predict_and_display(1)"
      ]
    },
    {
      "cell_type": "code",
      "source": [
        "predict_and_display(\"..content\\Downloads\\download.jpg\")"
      ],
      "metadata": {
        "id": "bnVz8-pOHV2s"
      },
      "execution_count": null,
      "outputs": []
    }
  ],
  "metadata": {
    "colab": {
      "provenance": [],
      "gpuType": "T4"
    },
    "kernelspec": {
      "display_name": "Python 3",
      "name": "python3"
    },
    "language_info": {
      "name": "python"
    },
    "accelerator": "GPU"
  },
  "nbformat": 4,
  "nbformat_minor": 0
}